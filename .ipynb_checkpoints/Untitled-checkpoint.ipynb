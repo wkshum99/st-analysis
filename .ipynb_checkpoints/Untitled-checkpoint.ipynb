{
 "cells": [
  {
   "cell_type": "code",
   "execution_count": 10,
   "metadata": {},
   "outputs": [],
   "source": [
    "import numpy as np\n",
    "import pandas as pd\n",
    "import matplotlib.pyplot as plt"
   ]
  },
  {
   "cell_type": "code",
   "execution_count": 26,
   "metadata": {},
   "outputs": [],
   "source": [
    "%matplotlibplotlib inline"
   ]
  },
  {
   "cell_type": "code",
   "execution_count": 3,
   "metadata": {},
   "outputs": [],
   "source": [
    "class st_analysis():\n",
    "    \n",
    "    def __init__(self, ticker, analysis=None):\n",
    "        self.ticker = ticker\n",
    "        self.dataPath = 'datasets/'+self.ticker+'.HK.csv'\n",
    "        self.analysis = analysis\n",
    "               \n",
    "    def load(self):\n",
    "        self.df = pd.read_csv(self.dataPath, parse_dates=True, infer_datetime_format=True)\n",
    "        self.clean()\n",
    "        self.process()\n",
    "        return self.df\n",
    "        \n",
    "    def clean(self):\n",
    "        self.df = self.df.dropna(axis=0)        \n",
    "        \n",
    "    def process(self):\n",
    "        if (self.analysis):\n",
    "            for k in self.analysis.keys():\n",
    "                if k == 'mv':\n",
    "                    for i in self.analysis['mv']:\n",
    "                        self.mv(i)\n",
    "                    \n",
    "    def mv(self, day):\n",
    "        self.df[str(day)+'-day'] = self.df[['Date', 'Close']].rolling(day, win_type='triang').mean()\n",
    "            \n",
    "    def plot(self):\n",
    "        plt.plt()\n",
    "        "
   ]
  },
  {
   "cell_type": "code",
   "execution_count": 4,
   "metadata": {},
   "outputs": [],
   "source": [
    "gal = st_analysis('0027', {'mv':[5,10,20,50,100,250]})\n",
    "gal = gal.load()"
   ]
  },
  {
   "cell_type": "code",
   "execution_count": 5,
   "metadata": {},
   "outputs": [
    {
     "data": {
      "text/html": [
       "<div>\n",
       "<style scoped>\n",
       "    .dataframe tbody tr th:only-of-type {\n",
       "        vertical-align: middle;\n",
       "    }\n",
       "\n",
       "    .dataframe tbody tr th {\n",
       "        vertical-align: top;\n",
       "    }\n",
       "\n",
       "    .dataframe thead th {\n",
       "        text-align: right;\n",
       "    }\n",
       "</style>\n",
       "<table border=\"1\" class=\"dataframe\">\n",
       "  <thead>\n",
       "    <tr style=\"text-align: right;\">\n",
       "      <th></th>\n",
       "      <th>Date</th>\n",
       "      <th>Open</th>\n",
       "      <th>High</th>\n",
       "      <th>Low</th>\n",
       "      <th>Close</th>\n",
       "      <th>Adj Close</th>\n",
       "      <th>Volume</th>\n",
       "      <th>5-day</th>\n",
       "      <th>10-day</th>\n",
       "      <th>20-day</th>\n",
       "      <th>50-day</th>\n",
       "      <th>100-day</th>\n",
       "      <th>250-day</th>\n",
       "    </tr>\n",
       "  </thead>\n",
       "  <tbody>\n",
       "    <tr>\n",
       "      <th>0</th>\n",
       "      <td>2000-01-04</td>\n",
       "      <td>0.64</td>\n",
       "      <td>0.65</td>\n",
       "      <td>0.62</td>\n",
       "      <td>0.63</td>\n",
       "      <td>0.599646</td>\n",
       "      <td>382000.0</td>\n",
       "      <td>NaN</td>\n",
       "      <td>NaN</td>\n",
       "      <td>NaN</td>\n",
       "      <td>NaN</td>\n",
       "      <td>NaN</td>\n",
       "      <td>NaN</td>\n",
       "    </tr>\n",
       "    <tr>\n",
       "      <th>1</th>\n",
       "      <td>2000-01-05</td>\n",
       "      <td>0.61</td>\n",
       "      <td>0.61</td>\n",
       "      <td>0.60</td>\n",
       "      <td>0.60</td>\n",
       "      <td>0.571092</td>\n",
       "      <td>140000.0</td>\n",
       "      <td>NaN</td>\n",
       "      <td>NaN</td>\n",
       "      <td>NaN</td>\n",
       "      <td>NaN</td>\n",
       "      <td>NaN</td>\n",
       "      <td>NaN</td>\n",
       "    </tr>\n",
       "    <tr>\n",
       "      <th>2</th>\n",
       "      <td>2000-01-06</td>\n",
       "      <td>0.58</td>\n",
       "      <td>0.62</td>\n",
       "      <td>0.58</td>\n",
       "      <td>0.58</td>\n",
       "      <td>0.552055</td>\n",
       "      <td>556000.0</td>\n",
       "      <td>NaN</td>\n",
       "      <td>NaN</td>\n",
       "      <td>NaN</td>\n",
       "      <td>NaN</td>\n",
       "      <td>NaN</td>\n",
       "      <td>NaN</td>\n",
       "    </tr>\n",
       "    <tr>\n",
       "      <th>3</th>\n",
       "      <td>2000-01-07</td>\n",
       "      <td>0.60</td>\n",
       "      <td>0.60</td>\n",
       "      <td>0.58</td>\n",
       "      <td>0.60</td>\n",
       "      <td>0.571092</td>\n",
       "      <td>266000.0</td>\n",
       "      <td>NaN</td>\n",
       "      <td>NaN</td>\n",
       "      <td>NaN</td>\n",
       "      <td>NaN</td>\n",
       "      <td>NaN</td>\n",
       "      <td>NaN</td>\n",
       "    </tr>\n",
       "    <tr>\n",
       "      <th>4</th>\n",
       "      <td>2000-01-10</td>\n",
       "      <td>0.60</td>\n",
       "      <td>0.60</td>\n",
       "      <td>0.59</td>\n",
       "      <td>0.59</td>\n",
       "      <td>0.561573</td>\n",
       "      <td>204000.0</td>\n",
       "      <td>0.595556</td>\n",
       "      <td>NaN</td>\n",
       "      <td>NaN</td>\n",
       "      <td>NaN</td>\n",
       "      <td>NaN</td>\n",
       "      <td>NaN</td>\n",
       "    </tr>\n",
       "  </tbody>\n",
       "</table>\n",
       "</div>"
      ],
      "text/plain": [
       "         Date  Open  High   Low  Close  Adj Close    Volume     5-day  10-day  \\\n",
       "0  2000-01-04  0.64  0.65  0.62   0.63   0.599646  382000.0       NaN     NaN   \n",
       "1  2000-01-05  0.61  0.61  0.60   0.60   0.571092  140000.0       NaN     NaN   \n",
       "2  2000-01-06  0.58  0.62  0.58   0.58   0.552055  556000.0       NaN     NaN   \n",
       "3  2000-01-07  0.60  0.60  0.58   0.60   0.571092  266000.0       NaN     NaN   \n",
       "4  2000-01-10  0.60  0.60  0.59   0.59   0.561573  204000.0  0.595556     NaN   \n",
       "\n",
       "   20-day  50-day  100-day  250-day  \n",
       "0     NaN     NaN      NaN      NaN  \n",
       "1     NaN     NaN      NaN      NaN  \n",
       "2     NaN     NaN      NaN      NaN  \n",
       "3     NaN     NaN      NaN      NaN  \n",
       "4     NaN     NaN      NaN      NaN  "
      ]
     },
     "execution_count": 5,
     "metadata": {},
     "output_type": "execute_result"
    }
   ],
   "source": [
    "gal.head(5)"
   ]
  },
  {
   "cell_type": "code",
   "execution_count": 25,
   "metadata": {},
   "outputs": [
    {
     "data": {
      "text/plain": [
       "[<matplotlib.lines.Line2D at 0x7f3ea5cc7470>]"
      ]
     },
     "execution_count": 25,
     "metadata": {},
     "output_type": "execute_result"
    },
    {
     "data": {
      "image/png": "[encoded data removed]",
      "text/plain": [
       "<Figure size 432x288 with 1 Axes>"
      ]
     },
     "metadata": {
      "needs_background": "light"
     },
     "output_type": "display_data"
    }
   ],
   "source": [
    "plt.plot(gal['Date'],gal['5-day'])"
   ]
  },
  {
   "cell_type": "code",
   "execution_count": 21,
   "metadata": {},
   "outputs": [
    {
     "data": {
      "text/plain": [
       "0       2000-01-04\n",
       "1       2000-01-05\n",
       "2       2000-01-06\n",
       "3       2000-01-07\n",
       "4       2000-01-10\n",
       "           ...    \n",
       "5190    2020-09-24\n",
       "5191    2020-09-25\n",
       "5192    2020-09-28\n",
       "5193    2020-09-29\n",
       "5194    2020-09-30\n",
       "Name: Date, Length: 5180, dtype: object"
      ]
     },
     "execution_count": 21,
     "metadata": {},
     "output_type": "execute_result"
    }
   ],
   "source": [
    "gal.Date"
   ]
  }
 ],
 "metadata": {
  "kernelspec": {
   "display_name": "Python 3",
   "language": "python",
   "name": "python3"
  },
  "language_info": {
   "codemirror_mode": {
    "name": "ipython",
    "version": 3
   },
   "file_extension": ".py",
   "mimetype": "text/x-python",
   "name": "python",
   "nbconvert_exporter": "python",
   "pygments_lexer": "ipython3",
   "version": "3.6.9"
  }
 },
 "nbformat": 4,
 "nbformat_minor": 4
}
